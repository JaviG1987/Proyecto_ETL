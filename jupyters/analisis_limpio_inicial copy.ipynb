{
 "cells": [
  {
   "cell_type": "code",
   "execution_count": 1,
   "metadata": {},
   "outputs": [],
   "source": [
    "import pandas as pd\n",
    "import numpy as np\n",
    "import seaborn as sns\n",
    "import matplotlib.pyplot as plt"
   ]
  },
  {
   "cell_type": "code",
   "execution_count": 2,
   "metadata": {},
   "outputs": [],
   "source": [
    "df_raw = pd.read_parquet (\"../data/reservas_hoteles.parquet\")"
   ]
  },
  {
   "cell_type": "code",
   "execution_count": 3,
   "metadata": {},
   "outputs": [],
   "source": [
    "df = df_raw.copy()"
   ]
  },
  {
   "cell_type": "code",
   "execution_count": 4,
   "metadata": {},
   "outputs": [
    {
     "name": "stderr",
     "output_type": "stream",
     "text": [
      "C:\\Users\\Javier\\AppData\\Local\\Temp\\ipykernel_10052\\2542985818.py:2: FutureWarning: A value is trying to be set on a copy of a DataFrame or Series through chained assignment using an inplace method.\n",
      "The behavior will change in pandas 3.0. This inplace method will never work because the intermediate object on which we are setting values always behaves as a copy.\n",
      "\n",
      "For example, when doing 'df[col].method(value, inplace=True)', try using 'df.method({col: value}, inplace=True)' or df[col] = df[col].method(value) instead, to perform the operation inplace on the original object.\n",
      "\n",
      "\n",
      "  df[\"ciudad\"].replace(\"\",np.nan, inplace=True)\n"
     ]
    }
   ],
   "source": [
    "df[[\"fecha_reserva\",\"inicio_estancia\", \"final_estancia\"]] = df[[\"fecha_reserva\",\"inicio_estancia\", \"final_estancia\"]].apply(pd.to_datetime)\n",
    "df[\"ciudad\"].replace(\"\",np.nan, inplace=True)\n"
   ]
  },
  {
   "cell_type": "code",
   "execution_count": 5,
   "metadata": {},
   "outputs": [],
   "source": [
    "df_competencia = df[df[\"competencia\"] == True]\n",
    "df_competencia = df_competencia[[\"id_hotel\"]].drop_duplicates()\n",
    "df_competencia = df_competencia.reset_index(drop=True)"
   ]
  },
  {
   "cell_type": "code",
   "execution_count": 6,
   "metadata": {},
   "outputs": [],
   "source": [
    "df_scrapeo_competencia = pd.read_parquet (\"../data/scrapeo_hoteles.parquet\")\n",
    "df_scrapeo_competencia [\"precio_noche\"] = df_scrapeo_competencia [\"precio_noche\"].astype(float)\n",
    "df_scrapeo_competencia [\"estrellas\"] = df_scrapeo_competencia [\"estrellas\"].astype(float)\n"
   ]
  },
  {
   "cell_type": "code",
   "execution_count": 7,
   "metadata": {},
   "outputs": [],
   "source": [
    "df_competencia_unido = pd.concat([df_competencia, df_scrapeo_competencia], axis=1)\n"
   ]
  },
  {
   "cell_type": "code",
   "execution_count": 8,
   "metadata": {},
   "outputs": [],
   "source": [
    "# rellenar df con los datos de df_competencia_unido\n",
    "df_final = df.merge(df_competencia_unido, on= \"id_hotel\", how=\"left\", suffixes=(\"\", \"_nuevo\"))\n",
    "columnas_actualizar = [\"fecha_reserva\", \"nombre_hotel\", \"precio_noche\", \"estrellas\"]\n",
    "for col in columnas_actualizar:\n",
    "    df_final[col] = df_final[col].mask(\n",
    "        df_final[col].isna() | (df_final[col] == \"\"),\n",
    "        df_final[f\"{col}_nuevo\"]\n",
    "    )\n",
    "df_final = df_final[df.columns]\n"
   ]
  },
  {
   "cell_type": "code",
   "execution_count": 9,
   "metadata": {},
   "outputs": [],
   "source": [
    "df_final.loc[df_final[\"competencia\"] == True, \"inicio_estancia\"] = df_final[\"inicio_estancia\"].fillna(\"2025-03-01\")\n",
    "df_final.loc[df_final[\"competencia\"] == True, \"final_estancia\"] = df_final[\"final_estancia\"].fillna(\"2025-03-02\")\n",
    "df_final.loc[df_final[\"competencia\"] == True, \"ciudad\"] = df_final[\"ciudad\"].fillna(\"Madrid\")\n"
   ]
  },
  {
   "cell_type": "code",
   "execution_count": 10,
   "metadata": {},
   "outputs": [],
   "source": [
    "df_propios = df[(df[\"competencia\"] == False)]\n"
   ]
  },
  {
   "cell_type": "code",
   "execution_count": 11,
   "metadata": {},
   "outputs": [],
   "source": [
    "df_propios_unicos = df_propios [[\"nombre_hotel\"]].drop_duplicates().reset_index(drop=True)\n",
    "df_propios_unicos [\"id_hotel\"] = range(1,len(df_propios_unicos)+1)\n",
    "df_propios_unicos = df_propios_unicos.set_index(\"nombre_hotel\")[\"id_hotel\"]\n"
   ]
  },
  {
   "cell_type": "code",
   "execution_count": 12,
   "metadata": {},
   "outputs": [],
   "source": [
    "precio_medio = df_propios.groupby (\"nombre_hotel\")[\"precio_noche\"].mean().round(2)\n"
   ]
  },
  {
   "cell_type": "code",
   "execution_count": 13,
   "metadata": {},
   "outputs": [],
   "source": [
    "valoracion_media = df_propios.groupby (\"nombre_hotel\")[\"estrellas\"].mean().round(2)\n"
   ]
  },
  {
   "cell_type": "code",
   "execution_count": 14,
   "metadata": {},
   "outputs": [],
   "source": [
    "df_final.loc[(df[\"competencia\"] == False), \"precio_noche\"] = df_final[\"nombre_hotel\"].map(precio_medio)\n",
    "df_final.loc[(df[\"competencia\"] == False), \"estrellas\"] = df_final[\"nombre_hotel\"].map(valoracion_media)\n",
    "df_final.loc[(df[\"competencia\"] == False), \"id_hotel\"] = df_final[\"nombre_hotel\"].map(df_propios_unicos)\n"
   ]
  },
  {
   "cell_type": "code",
   "execution_count": 15,
   "metadata": {},
   "outputs": [],
   "source": [
    "df_clientes_unicos = df [[\"mail\"]].drop_duplicates().reset_index(drop=True)\n",
    "df_clientes_unicos [\"id_cliente\"] = range(1,len(df_clientes_unicos)+1)\n",
    "df_clientes_unicos = df_clientes_unicos.set_index(\"mail\")[\"id_cliente\"]\n",
    "\n"
   ]
  },
  {
   "cell_type": "code",
   "execution_count": 16,
   "metadata": {},
   "outputs": [],
   "source": [
    "df_final[\"id_cliente\"] = df_final [\"mail\"].map(df_clientes_unicos)\n"
   ]
  },
  {
   "cell_type": "code",
   "execution_count": 17,
   "metadata": {},
   "outputs": [],
   "source": [
    "df_final[\"id_ciudad\"] = 1\n"
   ]
  },
  {
   "cell_type": "code",
   "execution_count": 18,
   "metadata": {},
   "outputs": [],
   "source": [
    "ciudad_conteo = df_final [\"ciudad\"].value_counts()\n"
   ]
  },
  {
   "cell_type": "code",
   "execution_count": 19,
   "metadata": {},
   "outputs": [],
   "source": [
    "df_ciudad = df_final [[\"ciudad\", \"id_ciudad\"]].drop_duplicates()\n"
   ]
  },
  {
   "cell_type": "code",
   "execution_count": 20,
   "metadata": {},
   "outputs": [],
   "source": [
    "df_ciudad.to_parquet(\"../data/ciudad.parquet\", index=False)"
   ]
  },
  {
   "cell_type": "code",
   "execution_count": 21,
   "metadata": {},
   "outputs": [],
   "source": [
    "df_final.to_parquet(\"../data/dataset_hoteles_limpio.parquet\", index=False)"
   ]
  },
  {
   "cell_type": "code",
   "execution_count": 22,
   "metadata": {},
   "outputs": [],
   "source": [
    "df_hotel = df_final[[\"id_hotel\", \"nombre_hotel\", \"competencia\", \"estrellas\", \"id_ciudad\"]].drop_duplicates()\n"
   ]
  },
  {
   "cell_type": "code",
   "execution_count": 23,
   "metadata": {},
   "outputs": [],
   "source": [
    "df_hotel.to_parquet(\"../data/hoteles.parquet\", index=False)"
   ]
  },
  {
   "cell_type": "code",
   "execution_count": 24,
   "metadata": {},
   "outputs": [],
   "source": [
    "df_cliente = df_final [[\"id_cliente\", \"nombre\", \"apellido\", \"mail\"]].drop_duplicates()\n"
   ]
  },
  {
   "cell_type": "code",
   "execution_count": 25,
   "metadata": {},
   "outputs": [],
   "source": [
    "df_cliente.to_parquet(\"../data/clientes.parquet\", index=False)"
   ]
  }
 ],
 "metadata": {
  "kernelspec": {
   "display_name": "Python 3",
   "language": "python",
   "name": "python3"
  },
  "language_info": {
   "codemirror_mode": {
    "name": "ipython",
    "version": 3
   },
   "file_extension": ".py",
   "mimetype": "text/x-python",
   "name": "python",
   "nbconvert_exporter": "python",
   "pygments_lexer": "ipython3",
   "version": "3.12.6"
  }
 },
 "nbformat": 4,
 "nbformat_minor": 2
}
