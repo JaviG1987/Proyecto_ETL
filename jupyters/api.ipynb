{
 "cells": [
  {
   "cell_type": "code",
   "execution_count": 1,
   "metadata": {},
   "outputs": [],
   "source": [
    "import pandas as pd\n",
    "import numpy as np\n",
    "import requests\n",
    "from datetime import datetime"
   ]
  },
  {
   "cell_type": "code",
   "execution_count": 2,
   "metadata": {},
   "outputs": [],
   "source": [
    "url = \"https://datos.madrid.es/egob/catalogo/300107-0-agenda-actividades-eventos.json\"\n",
    "response = requests.get(url)\n",
    "data = response.json()"
   ]
  },
  {
   "cell_type": "code",
   "execution_count": 3,
   "metadata": {},
   "outputs": [
    {
     "name": "stdout",
     "output_type": "stream",
     "text": [
      "1228\n"
     ]
    }
   ],
   "source": [
    "lista_eventos_api = data.get(\"@graph\")\n",
    "print(len(lista_eventos_api))\n"
   ]
  },
  {
   "cell_type": "code",
   "execution_count": 4,
   "metadata": {},
   "outputs": [],
   "source": [
    "dictio_evento = {\"title\": [],\n",
    "                 \"url\": [],\n",
    "                 \"postal-code\": [],\n",
    "                 \"dirección\": [],\n",
    "                 \"time\": [],\n",
    "                 \"organization\": [],\n",
    "                 \"dtstart\": [],\n",
    "                 \"dtend\": []}\n",
    "                 "
   ]
  },
  {
   "cell_type": "code",
   "execution_count": 5,
   "metadata": {},
   "outputs": [],
   "source": [
    "\n",
    "for i in lista_eventos_api:\n",
    "    nombre_evento = i.get(\"title\")\n",
    "    dir_url = i.get(\"link\")\n",
    "    cod_postal = i.get(\"address\", {}).get(\"area\", {}).get(\"postal-code\", \"0\")\n",
    "    direccion = i.get(\"address\", {}).get(\"area\", {}).get(\"street-address\", \"No disponible\")\n",
    "    horario = i.get (\"time\", \"No disponible\")\n",
    "    organizacion = i.get (\"organization\", {}).get(\"organization-name\", \"No disponible\")\n",
    "    dtstart = i.get(\"dtstart\")\n",
    "    dtend = i.get (\"dtend\")\n",
    "\n",
    "    dictio_evento[\"title\"].append(nombre_evento)\n",
    "    dictio_evento[\"url\"].append(dir_url)\n",
    "    dictio_evento[\"postal-code\"].append(cod_postal)\n",
    "    dictio_evento[\"dirección\"].append(direccion)\n",
    "    dictio_evento[\"time\"].append(horario)\n",
    "    dictio_evento[\"organization\"].append(organizacion)\n",
    "    dictio_evento[\"dtstart\"].append(dtstart)\n",
    "    dictio_evento[\"dtend\"].append(dtend)\n",
    "    \n",
    "df_eventos = pd.DataFrame(dictio_evento)"
   ]
  },
  {
   "cell_type": "code",
   "execution_count": 6,
   "metadata": {},
   "outputs": [],
   "source": [
    "df_eventos[\"dtstart\"] = pd.to_datetime (df_eventos[\"dtstart\"]).dt.date\n",
    "df_eventos[\"dtend\"] = pd.to_datetime (df_eventos[\"dtend\"]).dt.date\n"
   ]
  },
  {
   "cell_type": "code",
   "execution_count": 7,
   "metadata": {},
   "outputs": [],
   "source": [
    "fecha_inicio = datetime(2025, 3, 2, 0, 0, 0)\n",
    "fecha_fin = datetime(2025, 3, 3, 23, 59, 59)    "
   ]
  },
  {
   "cell_type": "code",
   "execution_count": 8,
   "metadata": {},
   "outputs": [],
   "source": [
    "eventos_fechas = []\n",
    "for _, row in df_eventos.iterrows():\n",
    "    dtstart_formato = pd.to_datetime(row[\"dtstart\"])\n",
    "    if fecha_inicio <= dtstart_formato <= fecha_fin:\n",
    "        eventos_fechas.append(row[[\"title\", \"url\", \"postal-code\", \"dirección\", \"time\", \"organization\", \"dtstart\",\"dtend\"]])\n",
    "\n",
    "df_eventos_fechas = pd.DataFrame(eventos_fechas)\n"
   ]
  },
  {
   "cell_type": "code",
   "execution_count": 9,
   "metadata": {},
   "outputs": [],
   "source": [
    "df_eventos_fechas [\"id_ciudad\"] = 1\n"
   ]
  },
  {
   "cell_type": "code",
   "execution_count": 10,
   "metadata": {},
   "outputs": [],
   "source": [
    "df_eventos_fechas [\"postal-code\"] = pd.to_numeric (df_eventos_fechas[\"postal-code\"], errors=\"coerce\").astype(\"Int64\")\n",
    "\n",
    "df_eventos_fechas[[\"dtstart\", \"dtend\"]] = df_eventos_fechas[[\"dtstart\", \"dtend\"]].apply(pd.to_datetime)"
   ]
  },
  {
   "cell_type": "code",
   "execution_count": 11,
   "metadata": {},
   "outputs": [
    {
     "data": {
      "text/plain": [
       "np.int64(0)"
      ]
     },
     "execution_count": 11,
     "metadata": {},
     "output_type": "execute_result"
    }
   ],
   "source": [
    "df_eventos_fechas [\"postal-code\"].isna().sum()"
   ]
  },
  {
   "cell_type": "code",
   "execution_count": 12,
   "metadata": {},
   "outputs": [],
   "source": [
    "df_eventos_fechas.to_parquet(\"../data/api_eventos.parquet\", index=False)"
   ]
  }
 ],
 "metadata": {
  "kernelspec": {
   "display_name": "Python 3",
   "language": "python",
   "name": "python3"
  },
  "language_info": {
   "codemirror_mode": {
    "name": "ipython",
    "version": 3
   },
   "file_extension": ".py",
   "mimetype": "text/x-python",
   "name": "python",
   "nbconvert_exporter": "python",
   "pygments_lexer": "ipython3",
   "version": "3.12.6"
  }
 },
 "nbformat": 4,
 "nbformat_minor": 2
}
