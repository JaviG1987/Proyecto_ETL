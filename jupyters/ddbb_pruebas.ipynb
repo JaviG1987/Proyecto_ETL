{
 "cells": [
  {
   "cell_type": "code",
   "execution_count": 3,
   "metadata": {},
   "outputs": [],
   "source": [
    "import pandas as pd\n",
    "import numpy as np\n",
    "import psycopg2"
   ]
  },
  {
   "cell_type": "code",
   "execution_count": 5,
   "metadata": {},
   "outputs": [],
   "source": [
    "conn = psycopg2.connect(\n",
    "    dbname= \"Proyecto_ETL\",\n",
    "    user=\"postgres\",\n",
    "    password=\"admin\",\n",
    "    host=\"localhost\",\n",
    "    port=\"5432\"\n",
    ")"
   ]
  },
  {
   "cell_type": "code",
   "execution_count": 6,
   "metadata": {},
   "outputs": [],
   "source": [
    "cur = conn.cursor() # cursor me va a permitir ejecutar querys"
   ]
  },
  {
   "cell_type": "code",
   "execution_count": 5,
   "metadata": {},
   "outputs": [
    {
     "data": {
      "text/plain": [
       "[(1, 'Madrid')]"
      ]
     },
     "execution_count": 5,
     "metadata": {},
     "output_type": "execute_result"
    }
   ],
   "source": [
    "# Comprobamos en la base de datos. Podemos hacerlo desde python\n",
    "query_comprobacion = \"\"\"\n",
    "                SELECT * FROM ciudad \n",
    "\"\"\"\n",
    "cur.execute(query_comprobacion)\n",
    "cur.fetchall()"
   ]
  },
  {
   "cell_type": "code",
   "execution_count": 6,
   "metadata": {},
   "outputs": [
    {
     "data": {
      "text/plain": [
       "[(1,\n",
       "  'Black sad women',\n",
       "  'http://www.madrid.es/sites/v/index.jsp?vgnextchannel=ca9671ee4a9eb410VgnVCM100000171f5a0aRCRD&vgnextoid=b24fa8c219315910VgnVCM2000001f4a900aRCRD',\n",
       "  28022,\n",
       "  'CALLE BOLTAÑA 27',\n",
       "  '19:00',\n",
       "  datetime.date(2025, 3, 2),\n",
       "  datetime.date(2025, 3, 2),\n",
       "  'Centro Cultural Buero Vallejo (San Blas - Canillejas)',\n",
       "  1),\n",
       " (2,\n",
       "  'Century Rock',\n",
       "  'http://www.madrid.es/sites/v/index.jsp?vgnextchannel=ca9671ee4a9eb410VgnVCM100000171f5a0aRCRD&vgnextoid=e451a8c219315910VgnVCM2000001f4a900aRCRD',\n",
       "  28022,\n",
       "  'CALLE BOLTAÑA 27',\n",
       "  '12:00',\n",
       "  datetime.date(2025, 3, 2),\n",
       "  datetime.date(2025, 3, 2),\n",
       "  'Centro Cultural Buero Vallejo (San Blas - Canillejas)',\n",
       "  1),\n",
       " (3,\n",
       "  'Circo Homónimo',\n",
       "  'http://www.madrid.es/sites/v/index.jsp?vgnextchannel=ca9671ee4a9eb410VgnVCM100000171f5a0aRCRD&vgnextoid=c520542e85d15910VgnVCM1000001d4a900aRCRD',\n",
       "  28022,\n",
       "  'CALLE ALIAGA 5',\n",
       "  '12:00',\n",
       "  datetime.date(2025, 3, 2),\n",
       "  datetime.date(2025, 3, 2),\n",
       "  'Centro Sociocultural Miguel de Cervantes (San Blas - Canillejas)',\n",
       "  1),\n",
       " (4,\n",
       "  'Clásicos del Cuento',\n",
       "  'http://www.madrid.es/sites/v/index.jsp?vgnextchannel=ca9671ee4a9eb410VgnVCM100000171f5a0aRCRD&vgnextoid=418fc109a5305910VgnVCM1000001d4a900aRCRD',\n",
       "  28045,\n",
       "  'PASEO CHOPERA 14',\n",
       "  '10:30',\n",
       "  datetime.date(2025, 3, 3),\n",
       "  datetime.date(2025, 3, 3),\n",
       "  'Casa del Lector',\n",
       "  1),\n",
       " (5,\n",
       "  'Concurso de disfraces',\n",
       "  'http://www.madrid.es/sites/v/index.jsp?vgnextchannel=ca9671ee4a9eb410VgnVCM100000171f5a0aRCRD&vgnextoid=dc29318cb1405910VgnVCM2000001f4a900aRCRD',\n",
       "  0,\n",
       "  'No disponible',\n",
       "  '11:30',\n",
       "  datetime.date(2025, 3, 2),\n",
       "  datetime.date(2025, 3, 2),\n",
       "  'No disponible',\n",
       "  1),\n",
       " (6,\n",
       "  'Coro Yelena Lafargue',\n",
       "  'http://www.madrid.es/sites/v/index.jsp?vgnextchannel=ca9671ee4a9eb410VgnVCM100000171f5a0aRCRD&vgnextoid=e8ec2c84ecd15910VgnVCM2000001f4a900aRCRD',\n",
       "  28022,\n",
       "  'CALLE FEBRERO 4',\n",
       "  '12:00',\n",
       "  datetime.date(2025, 3, 2),\n",
       "  datetime.date(2025, 3, 2),\n",
       "  'Centro Cultural José Luis López Vázquez (San Blas - Canillejas)',\n",
       "  1),\n",
       " (7,\n",
       "  'Cuidado con los bulos',\n",
       "  'http://www.madrid.es/sites/v/index.jsp?vgnextchannel=ca9671ee4a9eb410VgnVCM100000171f5a0aRCRD&vgnextoid=80c9f7cdf1ef4910VgnVCM2000001f4a900aRCRD',\n",
       "  28024,\n",
       "  'CALLE GRANJA DE TORREHERMOSA 1',\n",
       "  '10:00',\n",
       "  datetime.date(2025, 3, 3),\n",
       "  datetime.date(2025, 3, 5),\n",
       "  'Biblioteca Pública Municipal Ángel González (Latina)',\n",
       "  1),\n",
       " (8,\n",
       "  'Del grafismo a la textura',\n",
       "  'http://www.madrid.es/sites/v/index.jsp?vgnextchannel=ca9671ee4a9eb410VgnVCM100000171f5a0aRCRD&vgnextoid=8a20a9f2a3815910VgnVCM1000001d4a900aRCRD',\n",
       "  28023,\n",
       "  'TRAVESIA CA&amp;Ntilde;O 5',\n",
       "  '',\n",
       "  datetime.date(2025, 3, 3),\n",
       "  datetime.date(2025, 3, 28),\n",
       "  'Centro Cultural Juan Genovés (Moncloa - Aravaca)',\n",
       "  1),\n",
       " (9,\n",
       "  'Desfile con charanga y taller de máscaras',\n",
       "  'http://www.madrid.es/sites/v/index.jsp?vgnextchannel=ca9671ee4a9eb410VgnVCM100000171f5a0aRCRD&vgnextoid=1849318cb1405910VgnVCM2000001f4a900aRCRD',\n",
       "  0,\n",
       "  'No disponible',\n",
       "  '12:00',\n",
       "  datetime.date(2025, 3, 2),\n",
       "  datetime.date(2025, 3, 2),\n",
       "  'No disponible',\n",
       "  1),\n",
       " (10,\n",
       "  'El arca rusa',\n",
       "  'http://www.madrid.es/sites/v/index.jsp?vgnextchannel=ca9671ee4a9eb410VgnVCM100000171f5a0aRCRD&vgnextoid=af0464926f415910VgnVCM1000001d4a900aRCRD',\n",
       "  28045,\n",
       "  'PLAZA LEGAZPI 8',\n",
       "  '20:30',\n",
       "  datetime.date(2025, 3, 2),\n",
       "  datetime.date(2025, 3, 2),\n",
       "  'Cineteca Madrid',\n",
       "  1)]"
      ]
     },
     "execution_count": 6,
     "metadata": {},
     "output_type": "execute_result"
    }
   ],
   "source": [
    "# Comprobamos en la base de datos. Podemos hacerlo desde python\n",
    "query_comprobacion = \"\"\"\n",
    "                SELECT * FROM eventos LIMIT 10\n",
    "\"\"\"\n",
    "cur.execute(query_comprobacion)\n",
    "cur.fetchall()"
   ]
  },
  {
   "cell_type": "code",
   "execution_count": 7,
   "metadata": {},
   "outputs": [
    {
     "data": {
      "text/plain": [
       "[(113, 'ibis Styles Madrid Prado', True, 4.7, 1),\n",
       " (194, 'Novotel Madrid Center', True, 4.6, 1),\n",
       " (1, 'Hotel Monte Verde', False, 3.1, 1),\n",
       " (2, 'Hotel Brisas del Mar', False, 3.09, 1),\n",
       " (3, 'Hotel Camino del Sol', False, 3.07, 1),\n",
       " (4, 'Hotel Puerta del Cielo', False, 3.03, 1),\n",
       " (5, 'Hotel Encanto Real', False, 3.02, 1),\n",
       " (131, 'ibis budget Madrid Calle 30', True, 4.4, 1),\n",
       " (6, 'Palacio del Sol', False, 2.99, 1),\n",
       " (114, 'ibis Madrid Centro las Ventas', True, 4.5, 1)]"
      ]
     },
     "execution_count": 7,
     "metadata": {},
     "output_type": "execute_result"
    }
   ],
   "source": [
    "# Comprobamos en la base de datos. Podemos hacerlo desde python\n",
    "query_comprobacion = \"\"\"\n",
    "                SELECT * FROM hoteles LIMIT 10\n",
    "\"\"\"\n",
    "cur.execute(query_comprobacion)\n",
    "cur.fetchall()"
   ]
  },
  {
   "cell_type": "code",
   "execution_count": 8,
   "metadata": {},
   "outputs": [
    {
     "data": {
      "text/plain": [
       "[('1', 'Feliciana', 'Cantón', 'feliciana.cantón@example.com'),\n",
       " ('2', 'Leonardo', 'Hierro', 'leonardo.hierro@example.com'),\n",
       " ('3', 'Maite', 'Calatayud', 'maite.calatayud@example.com'),\n",
       " ('4', 'Tecla', 'Bonet', 'tecla.bonet@example.com'),\n",
       " ('5', 'Amílcar', 'Andrés', 'amílcar.andrés@example.com'),\n",
       " ('6', 'Joan', 'Vazquez', 'joan.vazquez@example.com'),\n",
       " ('7', 'Chelo', 'Flor', 'chelo.flor@example.com'),\n",
       " ('8', 'Judith', 'Rivas', 'judith.rivas@example.com'),\n",
       " ('9', 'Dolores', 'Lobo', 'dolores.lobo@example.com'),\n",
       " ('10', 'Adolfo', 'Cuervo', 'adolfo.cuervo@example.com')]"
      ]
     },
     "execution_count": 8,
     "metadata": {},
     "output_type": "execute_result"
    }
   ],
   "source": [
    "# Comprobamos en la base de datos. Podemos hacerlo desde python\n",
    "query_comprobacion = \"\"\"\n",
    "                SELECT * FROM clientes LIMIT 10\n",
    "\"\"\"\n",
    "cur.execute(query_comprobacion)\n",
    "cur.fetchall()"
   ]
  },
  {
   "cell_type": "code",
   "execution_count": 9,
   "metadata": {},
   "outputs": [
    {
     "data": {
      "text/plain": [
       "[('5256cc90-139b-43d2-8ec5-412495d751cf',\n",
       "  datetime.date(2025, 2, 20),\n",
       "  datetime.date(2025, 3, 1),\n",
       "  datetime.date(2025, 3, 2),\n",
       "  170.0,\n",
       "  '1',\n",
       "  113),\n",
       " ('84fd6209-bd8d-4a92-bfe6-c68ee2c49271',\n",
       "  datetime.date(2025, 2, 20),\n",
       "  datetime.date(2025, 3, 1),\n",
       "  datetime.date(2025, 3, 2),\n",
       "  255.0,\n",
       "  '2',\n",
       "  194),\n",
       " ('40c4cb55-d1f5-407b-832f-4756b8ff77b4',\n",
       "  datetime.date(2025, 2, 9),\n",
       "  datetime.date(2025, 3, 1),\n",
       "  datetime.date(2025, 3, 2),\n",
       "  276.09,\n",
       "  '3',\n",
       "  1),\n",
       " ('f2ce8df5-7844-43e1-8c0f-97ce7a208f21',\n",
       "  datetime.date(2025, 2, 8),\n",
       "  datetime.date(2025, 3, 1),\n",
       "  datetime.date(2025, 3, 2),\n",
       "  275.01,\n",
       "  '4',\n",
       "  2),\n",
       " ('57d4515a-447d-4067-afcb-9bdcf4e4e915',\n",
       "  datetime.date(2025, 2, 2),\n",
       "  datetime.date(2025, 3, 1),\n",
       "  datetime.date(2025, 3, 2),\n",
       "  270.07,\n",
       "  '5',\n",
       "  3),\n",
       " ('ccbd9fe9-5a60-4f6f-bed3-73a7158ecba7',\n",
       "  datetime.date(2025, 2, 8),\n",
       "  datetime.date(2025, 3, 1),\n",
       "  datetime.date(2025, 3, 2),\n",
       "  280.24,\n",
       "  '6',\n",
       "  4),\n",
       " ('99c3dc4f-663c-45f7-849a-ac9313f3746a',\n",
       "  datetime.date(2025, 2, 9),\n",
       "  datetime.date(2025, 3, 1),\n",
       "  datetime.date(2025, 3, 2),\n",
       "  278.18,\n",
       "  '7',\n",
       "  5),\n",
       " ('4d65096e-5f12-4ce7-9fd6-dd20e3cf5194',\n",
       "  datetime.date(2025, 2, 20),\n",
       "  datetime.date(2025, 3, 1),\n",
       "  datetime.date(2025, 3, 2),\n",
       "  106.0,\n",
       "  '8',\n",
       "  131),\n",
       " ('a5da0906-0fe5-4c30-b193-863df67a7b84',\n",
       "  datetime.date(2025, 2, 10),\n",
       "  datetime.date(2025, 3, 1),\n",
       "  datetime.date(2025, 3, 2),\n",
       "  282.34,\n",
       "  '9',\n",
       "  6),\n",
       " ('458029ad-cc9b-4d85-8290-fec170bcc02d',\n",
       "  datetime.date(2025, 2, 20),\n",
       "  datetime.date(2025, 3, 1),\n",
       "  datetime.date(2025, 3, 2),\n",
       "  172.0,\n",
       "  '10',\n",
       "  114)]"
      ]
     },
     "execution_count": 9,
     "metadata": {},
     "output_type": "execute_result"
    }
   ],
   "source": [
    "# Comprobamos en la base de datos. Podemos hacerlo desde python\n",
    "query_comprobacion = \"\"\"\n",
    "                SELECT * FROM reservas LIMIT 10\n",
    "\"\"\"\n",
    "cur.execute(query_comprobacion)\n",
    "cur.fetchall()"
   ]
  },
  {
   "cell_type": "code",
   "execution_count": 10,
   "metadata": {},
   "outputs": [
    {
     "data": {
      "text/plain": [
       "[(29,)]"
      ]
     },
     "execution_count": 10,
     "metadata": {},
     "output_type": "execute_result"
    }
   ],
   "source": [
    "# cuantos hoteles tiene la base da datos\n",
    "query_comprobacion = \"\"\"\n",
    "                SELECT count(id_hotel) FROM hoteles \n",
    "\"\"\"\n",
    "cur.execute(query_comprobacion)\n",
    "cur.fetchall()"
   ]
  },
  {
   "cell_type": "code",
   "execution_count": 11,
   "metadata": {},
   "outputs": [
    {
     "data": {
      "text/plain": [
       "[(15000,)]"
      ]
     },
     "execution_count": 11,
     "metadata": {},
     "output_type": "execute_result"
    }
   ],
   "source": [
    "# cuantas reservas se han hecho\n",
    "query_comprobacion = \"\"\"\n",
    "                SELECT count(id_reserva) FROM reservas\n",
    "\"\"\"\n",
    "cur.execute(query_comprobacion)\n",
    "cur.fetchall()"
   ]
  },
  {
   "cell_type": "code",
   "execution_count": 7,
   "metadata": {},
   "outputs": [
    {
     "data": {
      "text/plain": [
       "[('Black sad women', datetime.date(2025, 3, 2)),\n",
       " ('Century Rock', datetime.date(2025, 3, 2)),\n",
       " ('Circo Homónimo', datetime.date(2025, 3, 2)),\n",
       " ('Clásicos del Cuento', datetime.date(2025, 3, 3)),\n",
       " ('Concurso de disfraces', datetime.date(2025, 3, 2)),\n",
       " ('Coro Yelena Lafargue', datetime.date(2025, 3, 2)),\n",
       " ('Cuidado con los bulos', datetime.date(2025, 3, 3)),\n",
       " ('Del grafismo a la textura', datetime.date(2025, 3, 3)),\n",
       " ('Desfile con charanga y taller de máscaras', datetime.date(2025, 3, 2)),\n",
       " ('El arca rusa', datetime.date(2025, 3, 2)),\n",
       " ('El carnaval de los animales', datetime.date(2025, 3, 2)),\n",
       " ('Exhibición de chirigotas adultos', datetime.date(2025, 3, 2)),\n",
       " ('Exhibición de chirigotas infantiles', datetime.date(2025, 3, 2)),\n",
       " ('Exposición de fotografías aportadas por los alumnos del taller de Historia del Barrio de El Pilar',\n",
       "  datetime.date(2025, 3, 3)),\n",
       " ('Huerto familiar', datetime.date(2025, 3, 2)),\n",
       " ('Itinerario Ornitológico Parque del Oeste', datetime.date(2025, 3, 2)),\n",
       " ('Itinerario por el Parque Forestal de Valdebebas-Felipe VI',\n",
       "  datetime.date(2025, 3, 2)),\n",
       " ('La gira de rock Quijote', datetime.date(2025, 3, 2)),\n",
       " ('Las marionetas de la Dehesa te cuentan', datetime.date(2025, 3, 2)),\n",
       " ('Los Cabecicubos en la Biblioteca Pozo del Tío Raimundo',\n",
       "  datetime.date(2025, 3, 3)),\n",
       " ('Los secretos de los cuentos', datetime.date(2025, 3, 2)),\n",
       " ('Los soñadores', datetime.date(2025, 3, 2)),\n",
       " ('Memories', datetime.date(2025, 3, 2)),\n",
       " ('Rastreando la vida silvestre', datetime.date(2025, 3, 2)),\n",
       " ('Salve amicis aqua pigmenta et acquarello', datetime.date(2025, 3, 3)),\n",
       " ('Senderismo al invernadero de Arganzuela', datetime.date(2025, 3, 2)),\n",
       " ('Valerosas', datetime.date(2025, 3, 2)),\n",
       " ('Verde, gris, negro', datetime.date(2025, 3, 3))]"
      ]
     },
     "execution_count": 7,
     "metadata": {},
     "output_type": "execute_result"
    }
   ],
   "source": [
    "# cuantas reservas se han hecho\n",
    "query_comprobacion = \"\"\"\n",
    "                SELECT e.nombre_evento, e.fecha_inicio from ciudad c join eventos e on c.id_ciudad = e.id_ciudad \n",
    "\"\"\"\n",
    "cur.execute(query_comprobacion)\n",
    "cur.fetchall()\n"
   ]
  },
  {
   "cell_type": "code",
   "execution_count": 2,
   "metadata": {},
   "outputs": [
    {
     "ename": "NameError",
     "evalue": "name 'conn' is not defined",
     "output_type": "error",
     "traceback": [
      "\u001b[1;31m---------------------------------------------------------------------------\u001b[0m",
      "\u001b[1;31mNameError\u001b[0m                                 Traceback (most recent call last)",
      "Cell \u001b[1;32mIn[2], line 1\u001b[0m\n\u001b[1;32m----> 1\u001b[0m \u001b[43mconn\u001b[49m\u001b[38;5;241m.\u001b[39mrollback()\n",
      "\u001b[1;31mNameError\u001b[0m: name 'conn' is not defined"
     ]
    }
   ],
   "source": [
    "conn.rollback()"
   ]
  },
  {
   "cell_type": "code",
   "execution_count": null,
   "metadata": {},
   "outputs": [],
   "source": [
    "cur.close()\n",
    "conn.close()"
   ]
  }
 ],
 "metadata": {
  "kernelspec": {
   "display_name": "Python 3",
   "language": "python",
   "name": "python3"
  },
  "language_info": {
   "codemirror_mode": {
    "name": "ipython",
    "version": 3
   },
   "file_extension": ".py",
   "mimetype": "text/x-python",
   "name": "python",
   "nbconvert_exporter": "python",
   "pygments_lexer": "ipython3",
   "version": "3.12.6"
  }
 },
 "nbformat": 4,
 "nbformat_minor": 2
}
