{
 "cells": [
  {
   "cell_type": "code",
   "execution_count": 1,
   "metadata": {},
   "outputs": [],
   "source": [
    "import pandas as pd\n",
    "import numpy as np\n",
    "import psycopg2"
   ]
  },
  {
   "cell_type": "code",
   "execution_count": 2,
   "metadata": {},
   "outputs": [],
   "source": [
    "conn = psycopg2.connect(\n",
    "    dbname= \"Proyecto_ETL\",\n",
    "    user=\"postgres\",\n",
    "    password=\"admin\",\n",
    "    host=\"localhost\",\n",
    "    port=\"5432\"\n",
    ")"
   ]
  },
  {
   "cell_type": "code",
   "execution_count": 3,
   "metadata": {},
   "outputs": [],
   "source": [
    "cur = conn.cursor() # cursor me va a permitir ejecutar querys"
   ]
  },
  {
   "cell_type": "code",
   "execution_count": 4,
   "metadata": {},
   "outputs": [
    {
     "data": {
      "text/plain": [
       "('PostgreSQL 17rc1 on x86_64-windows, compiled by msvc-19.41.34120, 64-bit',)"
      ]
     },
     "execution_count": 4,
     "metadata": {},
     "output_type": "execute_result"
    }
   ],
   "source": [
    "cur.execute(query= \"SELECT version();\")\n",
    "cur.fetchone()"
   ]
  },
  {
   "cell_type": "markdown",
   "metadata": {},
   "source": [
    "TABLA CIUDAD"
   ]
  },
  {
   "cell_type": "code",
   "execution_count": 5,
   "metadata": {},
   "outputs": [],
   "source": [
    "df_ciudad = pd.read_parquet(\"../data/ciudad.parquet\")"
   ]
  },
  {
   "cell_type": "code",
   "execution_count": 6,
   "metadata": {},
   "outputs": [
    {
     "data": {
      "text/html": [
       "<div>\n",
       "<style scoped>\n",
       "    .dataframe tbody tr th:only-of-type {\n",
       "        vertical-align: middle;\n",
       "    }\n",
       "\n",
       "    .dataframe tbody tr th {\n",
       "        vertical-align: top;\n",
       "    }\n",
       "\n",
       "    .dataframe thead th {\n",
       "        text-align: right;\n",
       "    }\n",
       "</style>\n",
       "<table border=\"1\" class=\"dataframe\">\n",
       "  <thead>\n",
       "    <tr style=\"text-align: right;\">\n",
       "      <th></th>\n",
       "      <th>index</th>\n",
       "      <th>ciudad</th>\n",
       "    </tr>\n",
       "  </thead>\n",
       "  <tbody>\n",
       "    <tr>\n",
       "      <th>0</th>\n",
       "      <td>0</td>\n",
       "      <td>Madrid</td>\n",
       "    </tr>\n",
       "  </tbody>\n",
       "</table>\n",
       "</div>"
      ],
      "text/plain": [
       "   index  ciudad\n",
       "0      0  Madrid"
      ]
     },
     "execution_count": 6,
     "metadata": {},
     "output_type": "execute_result"
    }
   ],
   "source": [
    "tabla_ciudad = df_ciudad [\"ciudad\"].reset_index()\n",
    "tabla_ciudad.head()"
   ]
  },
  {
   "cell_type": "code",
   "execution_count": 7,
   "metadata": {},
   "outputs": [],
   "source": [
    "# Creamos la consulta\n",
    "insert_query = \"\"\"\n",
    "    INSERT INTO ciudad (nombre_ciudad)\n",
    "    VALUES (%s)\n",
    "\"\"\""
   ]
  },
  {
   "cell_type": "code",
   "execution_count": 8,
   "metadata": {},
   "outputs": [],
   "source": [
    "# Creamos una lista de tuplas con los valores a insertar\n",
    "data_to_insert = []\n",
    "for index, row in tabla_ciudad.iterrows():\n",
    "    data_to_insert.append([row['ciudad'], \n",
    "                          ])\n"
   ]
  },
  {
   "cell_type": "code",
   "execution_count": 9,
   "metadata": {},
   "outputs": [],
   "source": [
    "cur.executemany(insert_query, data_to_insert)\n",
    "conn.commit()"
   ]
  },
  {
   "cell_type": "markdown",
   "metadata": {},
   "source": [
    "TABLA EVENTOS"
   ]
  },
  {
   "cell_type": "code",
   "execution_count": 10,
   "metadata": {},
   "outputs": [],
   "source": [
    "df_eventos = pd.read_parquet(\"../data/api_eventos.parquet\")"
   ]
  },
  {
   "cell_type": "code",
   "execution_count": 11,
   "metadata": {},
   "outputs": [
    {
     "name": "stdout",
     "output_type": "stream",
     "text": [
      "Index(['title', 'url', 'postal-code', 'dirección', 'time', 'organization',\n",
      "       'dtstart', 'dtend', 'id_ciudad'],\n",
      "      dtype='object')\n"
     ]
    }
   ],
   "source": [
    "print(df_eventos.columns)"
   ]
  },
  {
   "cell_type": "code",
   "execution_count": 12,
   "metadata": {},
   "outputs": [
    {
     "data": {
      "text/html": [
       "<div>\n",
       "<style scoped>\n",
       "    .dataframe tbody tr th:only-of-type {\n",
       "        vertical-align: middle;\n",
       "    }\n",
       "\n",
       "    .dataframe tbody tr th {\n",
       "        vertical-align: top;\n",
       "    }\n",
       "\n",
       "    .dataframe thead th {\n",
       "        text-align: right;\n",
       "    }\n",
       "</style>\n",
       "<table border=\"1\" class=\"dataframe\">\n",
       "  <thead>\n",
       "    <tr style=\"text-align: right;\">\n",
       "      <th></th>\n",
       "      <th>title</th>\n",
       "      <th>url</th>\n",
       "      <th>postal-code</th>\n",
       "      <th>dirección</th>\n",
       "      <th>time</th>\n",
       "      <th>dtstart</th>\n",
       "      <th>dtend</th>\n",
       "      <th>organization</th>\n",
       "      <th>id_ciudad</th>\n",
       "    </tr>\n",
       "  </thead>\n",
       "  <tbody>\n",
       "    <tr>\n",
       "      <th>0</th>\n",
       "      <td>Black sad women</td>\n",
       "      <td>http://www.madrid.es/sites/v/index.jsp?vgnextc...</td>\n",
       "      <td>28022</td>\n",
       "      <td>CALLE BOLTAÑA 27</td>\n",
       "      <td>19:00</td>\n",
       "      <td>2025-03-02</td>\n",
       "      <td>2025-03-02</td>\n",
       "      <td>Centro Cultural Buero Vallejo (San Blas - Cani...</td>\n",
       "      <td>1</td>\n",
       "    </tr>\n",
       "    <tr>\n",
       "      <th>1</th>\n",
       "      <td>Century Rock</td>\n",
       "      <td>http://www.madrid.es/sites/v/index.jsp?vgnextc...</td>\n",
       "      <td>28022</td>\n",
       "      <td>CALLE BOLTAÑA 27</td>\n",
       "      <td>12:00</td>\n",
       "      <td>2025-03-02</td>\n",
       "      <td>2025-03-02</td>\n",
       "      <td>Centro Cultural Buero Vallejo (San Blas - Cani...</td>\n",
       "      <td>1</td>\n",
       "    </tr>\n",
       "    <tr>\n",
       "      <th>2</th>\n",
       "      <td>Circo Homónimo</td>\n",
       "      <td>http://www.madrid.es/sites/v/index.jsp?vgnextc...</td>\n",
       "      <td>28022</td>\n",
       "      <td>CALLE ALIAGA 5</td>\n",
       "      <td>12:00</td>\n",
       "      <td>2025-03-02</td>\n",
       "      <td>2025-03-02</td>\n",
       "      <td>Centro Sociocultural Miguel de Cervantes (San ...</td>\n",
       "      <td>1</td>\n",
       "    </tr>\n",
       "    <tr>\n",
       "      <th>3</th>\n",
       "      <td>Clásicos del Cuento</td>\n",
       "      <td>http://www.madrid.es/sites/v/index.jsp?vgnextc...</td>\n",
       "      <td>28045</td>\n",
       "      <td>PASEO CHOPERA 14</td>\n",
       "      <td>10:30</td>\n",
       "      <td>2025-03-03</td>\n",
       "      <td>2025-03-03</td>\n",
       "      <td>Casa del Lector</td>\n",
       "      <td>1</td>\n",
       "    </tr>\n",
       "    <tr>\n",
       "      <th>4</th>\n",
       "      <td>Concurso de disfraces</td>\n",
       "      <td>http://www.madrid.es/sites/v/index.jsp?vgnextc...</td>\n",
       "      <td>0</td>\n",
       "      <td>No disponible</td>\n",
       "      <td>11:30</td>\n",
       "      <td>2025-03-02</td>\n",
       "      <td>2025-03-02</td>\n",
       "      <td>No disponible</td>\n",
       "      <td>1</td>\n",
       "    </tr>\n",
       "  </tbody>\n",
       "</table>\n",
       "</div>"
      ],
      "text/plain": [
       "                   title                                                url  \\\n",
       "0        Black sad women  http://www.madrid.es/sites/v/index.jsp?vgnextc...   \n",
       "1           Century Rock  http://www.madrid.es/sites/v/index.jsp?vgnextc...   \n",
       "2         Circo Homónimo  http://www.madrid.es/sites/v/index.jsp?vgnextc...   \n",
       "3    Clásicos del Cuento  http://www.madrid.es/sites/v/index.jsp?vgnextc...   \n",
       "4  Concurso de disfraces  http://www.madrid.es/sites/v/index.jsp?vgnextc...   \n",
       "\n",
       "   postal-code         dirección   time    dtstart      dtend  \\\n",
       "0        28022  CALLE BOLTAÑA 27  19:00 2025-03-02 2025-03-02   \n",
       "1        28022  CALLE BOLTAÑA 27  12:00 2025-03-02 2025-03-02   \n",
       "2        28022    CALLE ALIAGA 5  12:00 2025-03-02 2025-03-02   \n",
       "3        28045  PASEO CHOPERA 14  10:30 2025-03-03 2025-03-03   \n",
       "4            0     No disponible  11:30 2025-03-02 2025-03-02   \n",
       "\n",
       "                                        organization  id_ciudad  \n",
       "0  Centro Cultural Buero Vallejo (San Blas - Cani...          1  \n",
       "1  Centro Cultural Buero Vallejo (San Blas - Cani...          1  \n",
       "2  Centro Sociocultural Miguel de Cervantes (San ...          1  \n",
       "3                                    Casa del Lector          1  \n",
       "4                                      No disponible          1  "
      ]
     },
     "execution_count": 12,
     "metadata": {},
     "output_type": "execute_result"
    }
   ],
   "source": [
    "tabla_eventos = df_eventos [[\"title\", \"url\", \"postal-code\", \"dirección\", \"time\", \"dtstart\", \"dtend\", \"organization\", \"id_ciudad\"]]\n",
    "tabla_eventos.head()"
   ]
  },
  {
   "cell_type": "code",
   "execution_count": 13,
   "metadata": {},
   "outputs": [],
   "source": [
    "# Creamos la consulta\n",
    "insert_query = \"\"\"\n",
    "    INSERT INTO eventos (\"nombre_evento\", \"url_evento\", \"codigo_postal\", \"direccion\", \"horario\", \"fecha_inicio\", \"fecha_fin\", \"organizacion\", \"id_ciudad\")\n",
    "    VALUES (%s, %s, %s, %s, %s, %s, %s, %s, %s)\n",
    "\"\"\""
   ]
  },
  {
   "cell_type": "code",
   "execution_count": 14,
   "metadata": {},
   "outputs": [],
   "source": [
    "# Creamos una lista de tuplas con los valores a insertar\n",
    "data_to_insert = []\n",
    "for index, row in tabla_eventos.iterrows():\n",
    "    data_to_insert.append([row['title'], \n",
    "                           row['url'], \n",
    "                           row['postal-code'], \n",
    "                           row['dirección'], \n",
    "                           row['time'],\n",
    "                           row['dtstart'],\n",
    "                           row['dtend'],\n",
    "                           row['organization'],\n",
    "                           row['id_ciudad']\n",
    "                           ])\n"
   ]
  },
  {
   "cell_type": "code",
   "execution_count": 15,
   "metadata": {},
   "outputs": [],
   "source": [
    "cur.executemany(insert_query, data_to_insert)\n",
    "conn.commit()"
   ]
  },
  {
   "cell_type": "markdown",
   "metadata": {},
   "source": [
    "TABLA HOTELES"
   ]
  },
  {
   "cell_type": "code",
   "execution_count": 4,
   "metadata": {},
   "outputs": [],
   "source": [
    "df_hoteles = pd.read_parquet(\"../data/hoteles.parquet\")"
   ]
  },
  {
   "cell_type": "code",
   "execution_count": 17,
   "metadata": {},
   "outputs": [
    {
     "data": {
      "text/html": [
       "<div>\n",
       "<style scoped>\n",
       "    .dataframe tbody tr th:only-of-type {\n",
       "        vertical-align: middle;\n",
       "    }\n",
       "\n",
       "    .dataframe tbody tr th {\n",
       "        vertical-align: top;\n",
       "    }\n",
       "\n",
       "    .dataframe thead th {\n",
       "        text-align: right;\n",
       "    }\n",
       "</style>\n",
       "<table border=\"1\" class=\"dataframe\">\n",
       "  <thead>\n",
       "    <tr style=\"text-align: right;\">\n",
       "      <th></th>\n",
       "      <th>id_hotel</th>\n",
       "      <th>nombre_hotel</th>\n",
       "      <th>competencia</th>\n",
       "      <th>estrellas</th>\n",
       "      <th>id_ciudad</th>\n",
       "    </tr>\n",
       "  </thead>\n",
       "  <tbody>\n",
       "    <tr>\n",
       "      <th>0</th>\n",
       "      <td>113</td>\n",
       "      <td>ibis Styles Madrid Prado</td>\n",
       "      <td>True</td>\n",
       "      <td>4.70</td>\n",
       "      <td>1</td>\n",
       "    </tr>\n",
       "    <tr>\n",
       "      <th>1</th>\n",
       "      <td>194</td>\n",
       "      <td>Novotel Madrid Center</td>\n",
       "      <td>True</td>\n",
       "      <td>4.60</td>\n",
       "      <td>1</td>\n",
       "    </tr>\n",
       "    <tr>\n",
       "      <th>2</th>\n",
       "      <td>1</td>\n",
       "      <td>Hotel Monte Verde</td>\n",
       "      <td>False</td>\n",
       "      <td>3.10</td>\n",
       "      <td>1</td>\n",
       "    </tr>\n",
       "    <tr>\n",
       "      <th>3</th>\n",
       "      <td>2</td>\n",
       "      <td>Hotel Brisas del Mar</td>\n",
       "      <td>False</td>\n",
       "      <td>3.09</td>\n",
       "      <td>1</td>\n",
       "    </tr>\n",
       "    <tr>\n",
       "      <th>4</th>\n",
       "      <td>3</td>\n",
       "      <td>Hotel Camino del Sol</td>\n",
       "      <td>False</td>\n",
       "      <td>3.07</td>\n",
       "      <td>1</td>\n",
       "    </tr>\n",
       "  </tbody>\n",
       "</table>\n",
       "</div>"
      ],
      "text/plain": [
       "   id_hotel              nombre_hotel  competencia  estrellas  id_ciudad\n",
       "0       113  ibis Styles Madrid Prado         True       4.70          1\n",
       "1       194     Novotel Madrid Center         True       4.60          1\n",
       "2         1         Hotel Monte Verde        False       3.10          1\n",
       "3         2      Hotel Brisas del Mar        False       3.09          1\n",
       "4         3      Hotel Camino del Sol        False       3.07          1"
      ]
     },
     "execution_count": 17,
     "metadata": {},
     "output_type": "execute_result"
    }
   ],
   "source": [
    "tabla_hoteles = df_hoteles [[\"id_hotel\", \"nombre_hotel\", \"competencia\", \"estrellas\", \"id_ciudad\"]]\n",
    "tabla_hoteles.head()"
   ]
  },
  {
   "cell_type": "code",
   "execution_count": 18,
   "metadata": {},
   "outputs": [],
   "source": [
    "# Creamos la consulta\n",
    "insert_query = \"\"\"\n",
    "    INSERT INTO hoteles (\"id_hotel\", \"nombre_hotel\", \"competencia\", \"valoracion\", \"id_ciudad\")\n",
    "    VALUES (%s, %s, %s, %s, %s)\n",
    "\"\"\""
   ]
  },
  {
   "cell_type": "code",
   "execution_count": 19,
   "metadata": {},
   "outputs": [],
   "source": [
    "# Creamos una lista de tuplas con los valores a insertar\n",
    "data_to_insert = []\n",
    "for index, row in tabla_hoteles.iterrows():\n",
    "    data_to_insert.append([row['id_hotel'], \n",
    "                           row['nombre_hotel'], \n",
    "                           row['competencia'], \n",
    "                           row['estrellas'], \n",
    "                           row['id_ciudad']\n",
    "                           ])\n"
   ]
  },
  {
   "cell_type": "code",
   "execution_count": 20,
   "metadata": {},
   "outputs": [],
   "source": [
    "cur.executemany(insert_query, data_to_insert)\n",
    "conn.commit()"
   ]
  },
  {
   "cell_type": "markdown",
   "metadata": {},
   "source": [
    "TABLA CLIENTES"
   ]
  },
  {
   "cell_type": "code",
   "execution_count": 21,
   "metadata": {},
   "outputs": [],
   "source": [
    "df_clientes = pd.read_parquet(\"../data/clientes.parquet\")"
   ]
  },
  {
   "cell_type": "code",
   "execution_count": 22,
   "metadata": {},
   "outputs": [
    {
     "data": {
      "text/html": [
       "<div>\n",
       "<style scoped>\n",
       "    .dataframe tbody tr th:only-of-type {\n",
       "        vertical-align: middle;\n",
       "    }\n",
       "\n",
       "    .dataframe tbody tr th {\n",
       "        vertical-align: top;\n",
       "    }\n",
       "\n",
       "    .dataframe thead th {\n",
       "        text-align: right;\n",
       "    }\n",
       "</style>\n",
       "<table border=\"1\" class=\"dataframe\">\n",
       "  <thead>\n",
       "    <tr style=\"text-align: right;\">\n",
       "      <th></th>\n",
       "      <th>id_cliente</th>\n",
       "      <th>nombre</th>\n",
       "      <th>apellido</th>\n",
       "      <th>mail</th>\n",
       "    </tr>\n",
       "  </thead>\n",
       "  <tbody>\n",
       "    <tr>\n",
       "      <th>0</th>\n",
       "      <td>1</td>\n",
       "      <td>Feliciana</td>\n",
       "      <td>Cantón</td>\n",
       "      <td>feliciana.cantón@example.com</td>\n",
       "    </tr>\n",
       "    <tr>\n",
       "      <th>1</th>\n",
       "      <td>2</td>\n",
       "      <td>Leonardo</td>\n",
       "      <td>Hierro</td>\n",
       "      <td>leonardo.hierro@example.com</td>\n",
       "    </tr>\n",
       "    <tr>\n",
       "      <th>2</th>\n",
       "      <td>3</td>\n",
       "      <td>Maite</td>\n",
       "      <td>Calatayud</td>\n",
       "      <td>maite.calatayud@example.com</td>\n",
       "    </tr>\n",
       "    <tr>\n",
       "      <th>3</th>\n",
       "      <td>4</td>\n",
       "      <td>Tecla</td>\n",
       "      <td>Bonet</td>\n",
       "      <td>tecla.bonet@example.com</td>\n",
       "    </tr>\n",
       "    <tr>\n",
       "      <th>4</th>\n",
       "      <td>5</td>\n",
       "      <td>Amílcar</td>\n",
       "      <td>Andrés</td>\n",
       "      <td>amílcar.andrés@example.com</td>\n",
       "    </tr>\n",
       "  </tbody>\n",
       "</table>\n",
       "</div>"
      ],
      "text/plain": [
       "   id_cliente     nombre   apellido                          mail\n",
       "0           1  Feliciana     Cantón  feliciana.cantón@example.com\n",
       "1           2   Leonardo     Hierro   leonardo.hierro@example.com\n",
       "2           3      Maite  Calatayud   maite.calatayud@example.com\n",
       "3           4      Tecla      Bonet       tecla.bonet@example.com\n",
       "4           5    Amílcar     Andrés    amílcar.andrés@example.com"
      ]
     },
     "execution_count": 22,
     "metadata": {},
     "output_type": "execute_result"
    }
   ],
   "source": [
    "tabla_clientes = df_clientes [[\"id_cliente\", \"nombre\", \"apellido\", \"mail\"]]\n",
    "tabla_clientes.head()"
   ]
  },
  {
   "cell_type": "code",
   "execution_count": 23,
   "metadata": {},
   "outputs": [],
   "source": [
    "# Creamos la consulta\n",
    "insert_query = \"\"\"\n",
    "    INSERT INTO clientes (\"id_cliente\", \"nombre\", \"apellido\", \"mail\")\n",
    "    VALUES (%s, %s, %s, %s)\n",
    "\"\"\""
   ]
  },
  {
   "cell_type": "code",
   "execution_count": 24,
   "metadata": {},
   "outputs": [],
   "source": [
    "# Creamos una lista de tuplas con los valores a insertar\n",
    "data_to_insert = []\n",
    "for index, row in tabla_clientes.iterrows():\n",
    "    data_to_insert.append([row['id_cliente'], \n",
    "                           row['nombre'], \n",
    "                           row['apellido'], \n",
    "                           row['mail'],\n",
    "                           ])"
   ]
  },
  {
   "cell_type": "code",
   "execution_count": 25,
   "metadata": {},
   "outputs": [],
   "source": [
    "cur.executemany(insert_query, data_to_insert)\n",
    "conn.commit()"
   ]
  },
  {
   "cell_type": "markdown",
   "metadata": {},
   "source": [
    "TABLA RESERVAS"
   ]
  },
  {
   "cell_type": "code",
   "execution_count": 37,
   "metadata": {},
   "outputs": [],
   "source": [
    "df_reservas = pd.read_parquet(\"../data/dataset_hoteles_limpio.parquet\")"
   ]
  },
  {
   "cell_type": "code",
   "execution_count": 38,
   "metadata": {},
   "outputs": [
    {
     "name": "stderr",
     "output_type": "stream",
     "text": [
      "C:\\Users\\Javier\\AppData\\Local\\Temp\\ipykernel_16048\\1660800889.py:2: SettingWithCopyWarning: \n",
      "A value is trying to be set on a copy of a slice from a DataFrame\n",
      "\n",
      "See the caveats in the documentation: https://pandas.pydata.org/pandas-docs/stable/user_guide/indexing.html#returning-a-view-versus-a-copy\n",
      "  tabla_reservas.drop_duplicates(inplace=True)\n"
     ]
    },
    {
     "data": {
      "text/plain": [
       "np.int64(0)"
      ]
     },
     "execution_count": 38,
     "metadata": {},
     "output_type": "execute_result"
    }
   ],
   "source": [
    "tabla_reservas = df_reservas [[\"id_reserva\", \"fecha_reserva\", \"inicio_estancia\", \"final_estancia\", \"precio_noche\", \"id_cliente\", \"id_hotel\"]]\n",
    "tabla_reservas.drop_duplicates(inplace=True)\n",
    "tabla_reservas.duplicated().sum()"
   ]
  },
  {
   "cell_type": "code",
   "execution_count": 39,
   "metadata": {},
   "outputs": [],
   "source": [
    "# Creamos la consulta\n",
    "insert_query = \"\"\"\n",
    "    INSERT INTO reservas (\"id_reserva\", \"fecha_reserva\", \"inicio_estancia\", \"final_estancia\", \"precio_noche\", \"id_cliente\", \"id_hotel\")\n",
    "    VALUES (%s, %s, %s, %s, %s, %s, %s)\n",
    "\"\"\""
   ]
  },
  {
   "cell_type": "code",
   "execution_count": 40,
   "metadata": {},
   "outputs": [],
   "source": [
    "# Creamos una lista de tuplas con los valores a insertar\n",
    "data_to_insert = []\n",
    "for index, row in tabla_reservas.iterrows():\n",
    "    data_to_insert.append([row['id_reserva'], \n",
    "                           row['fecha_reserva'] if pd.notna (row[\"fecha_reserva\"]) else None,\n",
    "                           row['inicio_estancia'] if pd.notna (row[\"inicio_estancia\"]) else None,\n",
    "                           row['final_estancia'] if pd.notna (row[\"final_estancia\"]) else None,\n",
    "                           row['precio_noche'],\n",
    "                           row['id_cliente'],\n",
    "                           row['id_hotel'],\n",
    "                           ])"
   ]
  },
  {
   "cell_type": "code",
   "execution_count": 41,
   "metadata": {},
   "outputs": [],
   "source": [
    "cur.executemany(insert_query, data_to_insert)\n",
    "conn.commit()"
   ]
  },
  {
   "cell_type": "code",
   "execution_count": 19,
   "metadata": {},
   "outputs": [],
   "source": [
    "conn.rollback()"
   ]
  },
  {
   "cell_type": "code",
   "execution_count": 27,
   "metadata": {},
   "outputs": [],
   "source": [
    "cur.close()\n",
    "conn.close()"
   ]
  }
 ],
 "metadata": {
  "kernelspec": {
   "display_name": "Python 3",
   "language": "python",
   "name": "python3"
  },
  "language_info": {
   "codemirror_mode": {
    "name": "ipython",
    "version": 3
   },
   "file_extension": ".py",
   "mimetype": "text/x-python",
   "name": "python",
   "nbconvert_exporter": "python",
   "pygments_lexer": "ipython3",
   "version": "3.12.6"
  }
 },
 "nbformat": 4,
 "nbformat_minor": 2
}
