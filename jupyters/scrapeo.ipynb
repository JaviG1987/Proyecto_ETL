{
 "cells": [
  {
   "cell_type": "code",
   "execution_count": 2,
   "metadata": {},
   "outputs": [],
   "source": [
    "import pandas as pd\n",
    "import numpy as np\n",
    "from bs4 import BeautifulSoup as bs\n",
    "import requests\n",
    "from selenium import webdriver\n",
    "from selenium.webdriver.common.by import By\n",
    "import time\n",
    "from datetime import datetime"
   ]
  },
  {
   "cell_type": "code",
   "execution_count": 3,
   "metadata": {},
   "outputs": [],
   "source": [
    "options= webdriver.ChromeOptions()\n",
    "options.add_argument(\"--headless\")\n"
   ]
  },
  {
   "cell_type": "code",
   "execution_count": 4,
   "metadata": {},
   "outputs": [],
   "source": [
    "options.add_argument(\"window-size=1920x1080\")\n",
    "options.add_argument(\"--incognito\")"
   ]
  },
  {
   "cell_type": "code",
   "execution_count": 5,
   "metadata": {},
   "outputs": [],
   "source": [
    "url = \"https://all.accor.com/ssr/app/ibis/hotels/madrid-spain/open/index.es.shtml?compositions=1&stayplus=false&snu=false&hideWDR=false&accessibleRooms=false&hideHotelDetails=false&dateIn=2025-03-01&nights=1&destination=madrid-spain\""
   ]
  },
  {
   "cell_type": "code",
   "execution_count": 9,
   "metadata": {},
   "outputs": [
    {
     "name": "stdout",
     "output_type": "stream",
     "text": [
      "[<selenium.webdriver.remote.webelement.WebElement (session=\"64234b8e049fea8d0bde9f6eea83c3b8\", element=\"f.78527618302C152C8E7D7BA51783E2C5.d.F23A806422F8880F71B29740F8505F48.e.45\")>, <selenium.webdriver.remote.webelement.WebElement (session=\"64234b8e049fea8d0bde9f6eea83c3b8\", element=\"f.78527618302C152C8E7D7BA51783E2C5.d.F23A806422F8880F71B29740F8505F48.e.46\")>, <selenium.webdriver.remote.webelement.WebElement (session=\"64234b8e049fea8d0bde9f6eea83c3b8\", element=\"f.78527618302C152C8E7D7BA51783E2C5.d.F23A806422F8880F71B29740F8505F48.e.47\")>, <selenium.webdriver.remote.webelement.WebElement (session=\"64234b8e049fea8d0bde9f6eea83c3b8\", element=\"f.78527618302C152C8E7D7BA51783E2C5.d.F23A806422F8880F71B29740F8505F48.e.48\")>, <selenium.webdriver.remote.webelement.WebElement (session=\"64234b8e049fea8d0bde9f6eea83c3b8\", element=\"f.78527618302C152C8E7D7BA51783E2C5.d.F23A806422F8880F71B29740F8505F48.e.49\")>, <selenium.webdriver.remote.webelement.WebElement (session=\"64234b8e049fea8d0bde9f6eea83c3b8\", element=\"f.78527618302C152C8E7D7BA51783E2C5.d.F23A806422F8880F71B29740F8505F48.e.50\")>, <selenium.webdriver.remote.webelement.WebElement (session=\"64234b8e049fea8d0bde9f6eea83c3b8\", element=\"f.78527618302C152C8E7D7BA51783E2C5.d.F23A806422F8880F71B29740F8505F48.e.51\")>, <selenium.webdriver.remote.webelement.WebElement (session=\"64234b8e049fea8d0bde9f6eea83c3b8\", element=\"f.78527618302C152C8E7D7BA51783E2C5.d.F23A806422F8880F71B29740F8505F48.e.52\")>, <selenium.webdriver.remote.webelement.WebElement (session=\"64234b8e049fea8d0bde9f6eea83c3b8\", element=\"f.78527618302C152C8E7D7BA51783E2C5.d.F23A806422F8880F71B29740F8505F48.e.53\")>, <selenium.webdriver.remote.webelement.WebElement (session=\"64234b8e049fea8d0bde9f6eea83c3b8\", element=\"f.78527618302C152C8E7D7BA51783E2C5.d.F23A806422F8880F71B29740F8505F48.e.54\")>]\n",
      "ibis Styles Madrid Prado\n",
      "170\n",
      "Novotel Madrid Center\n",
      "255\n",
      "ibis budget Madrid Calle 30\n",
      "106\n",
      "ibis Madrid Centro las Ventas\n",
      "172\n",
      "ibis budget Madrid Centro las Ventas\n",
      "119\n",
      "Novotel Madrid City Las Ventas\n",
      "173\n",
      "ibis budget Madrid Vallecas\n",
      "102\n",
      "Pullman Madrid Airport & Feria\n",
      "127\n",
      "ibis Madrid Aeropuerto Barajas\n",
      "116\n",
      "ibis Madrid Alcorcon Tresaguas\n",
      "90\n"
     ]
    }
   ],
   "source": [
    "#iniciamos driver\n",
    "driver = webdriver.Chrome(options=options)\n",
    "driver.get (url)\n",
    "time.sleep(10) #espera a que se cargue todo y empieza a sacar\n",
    "hoteles = driver.find_elements(By.CLASS_NAME, \"hotelblock__content\")\n",
    "print(hoteles)\n",
    "dictio_hoteles = []\n",
    "for hotel in hoteles:\n",
    "    nombre, estrellas = hotel.find_element(By.CLASS_NAME, \"title\").text.split (\"\\n\")\n",
    "    print(nombre)\n",
    "    precio =hotel.find_element(By.CLASS_NAME, \"booking-price__number\").text\n",
    "    print(precio)\n",
    "    valoracion_media  =hotel.find_element(By.CLASS_NAME, \"ratings__score\").text.split(\"/\")[0]\n",
    "    fecha_scraping = datetime.now().strftime(\"%Y-%m-%d\")\n",
    "\n",
    "    dictio_hoteles.append({\"nombre_hotel\": nombre,\n",
    "                           \"precio_noche\": precio,\n",
    "                           \"estrellas\": valoracion_media,\n",
    "                           \"fecha_reserva\": fecha_scraping\n",
    "     })\n",
    "    \n",
    "df_dictio_hoteles = pd.DataFrame(dictio_hoteles)\n",
    "\n",
    "driver.close()\n",
    "driver.quit()"
   ]
  },
  {
   "cell_type": "code",
   "execution_count": 10,
   "metadata": {},
   "outputs": [
    {
     "data": {
      "text/html": [
       "<div>\n",
       "<style scoped>\n",
       "    .dataframe tbody tr th:only-of-type {\n",
       "        vertical-align: middle;\n",
       "    }\n",
       "\n",
       "    .dataframe tbody tr th {\n",
       "        vertical-align: top;\n",
       "    }\n",
       "\n",
       "    .dataframe thead th {\n",
       "        text-align: right;\n",
       "    }\n",
       "</style>\n",
       "<table border=\"1\" class=\"dataframe\">\n",
       "  <thead>\n",
       "    <tr style=\"text-align: right;\">\n",
       "      <th></th>\n",
       "      <th>nombre_hotel</th>\n",
       "      <th>precio_noche</th>\n",
       "      <th>estrellas</th>\n",
       "      <th>fecha_reserva</th>\n",
       "    </tr>\n",
       "  </thead>\n",
       "  <tbody>\n",
       "    <tr>\n",
       "      <th>0</th>\n",
       "      <td>ibis Styles Madrid Prado</td>\n",
       "      <td>170</td>\n",
       "      <td>4.7</td>\n",
       "      <td>2025-02-20</td>\n",
       "    </tr>\n",
       "    <tr>\n",
       "      <th>1</th>\n",
       "      <td>Novotel Madrid Center</td>\n",
       "      <td>255</td>\n",
       "      <td>4.6</td>\n",
       "      <td>2025-02-20</td>\n",
       "    </tr>\n",
       "    <tr>\n",
       "      <th>2</th>\n",
       "      <td>ibis budget Madrid Calle 30</td>\n",
       "      <td>106</td>\n",
       "      <td>4.4</td>\n",
       "      <td>2025-02-20</td>\n",
       "    </tr>\n",
       "    <tr>\n",
       "      <th>3</th>\n",
       "      <td>ibis Madrid Centro las Ventas</td>\n",
       "      <td>172</td>\n",
       "      <td>4.5</td>\n",
       "      <td>2025-02-20</td>\n",
       "    </tr>\n",
       "    <tr>\n",
       "      <th>4</th>\n",
       "      <td>ibis budget Madrid Centro las Ventas</td>\n",
       "      <td>119</td>\n",
       "      <td>4.3</td>\n",
       "      <td>2025-02-20</td>\n",
       "    </tr>\n",
       "    <tr>\n",
       "      <th>5</th>\n",
       "      <td>Novotel Madrid City Las Ventas</td>\n",
       "      <td>173</td>\n",
       "      <td>4.6</td>\n",
       "      <td>2025-02-20</td>\n",
       "    </tr>\n",
       "    <tr>\n",
       "      <th>6</th>\n",
       "      <td>ibis budget Madrid Vallecas</td>\n",
       "      <td>102</td>\n",
       "      <td>4.3</td>\n",
       "      <td>2025-02-20</td>\n",
       "    </tr>\n",
       "    <tr>\n",
       "      <th>7</th>\n",
       "      <td>Pullman Madrid Airport &amp; Feria</td>\n",
       "      <td>127</td>\n",
       "      <td>4.2</td>\n",
       "      <td>2025-02-20</td>\n",
       "    </tr>\n",
       "    <tr>\n",
       "      <th>8</th>\n",
       "      <td>ibis Madrid Aeropuerto Barajas</td>\n",
       "      <td>116</td>\n",
       "      <td>4.4</td>\n",
       "      <td>2025-02-20</td>\n",
       "    </tr>\n",
       "    <tr>\n",
       "      <th>9</th>\n",
       "      <td>ibis Madrid Alcorcon Tresaguas</td>\n",
       "      <td>90</td>\n",
       "      <td>4.4</td>\n",
       "      <td>2025-02-20</td>\n",
       "    </tr>\n",
       "  </tbody>\n",
       "</table>\n",
       "</div>"
      ],
      "text/plain": [
       "                           nombre_hotel precio_noche estrellas fecha_reserva\n",
       "0              ibis Styles Madrid Prado          170       4.7    2025-02-20\n",
       "1                 Novotel Madrid Center          255       4.6    2025-02-20\n",
       "2           ibis budget Madrid Calle 30          106       4.4    2025-02-20\n",
       "3         ibis Madrid Centro las Ventas          172       4.5    2025-02-20\n",
       "4  ibis budget Madrid Centro las Ventas          119       4.3    2025-02-20\n",
       "5        Novotel Madrid City Las Ventas          173       4.6    2025-02-20\n",
       "6           ibis budget Madrid Vallecas          102       4.3    2025-02-20\n",
       "7        Pullman Madrid Airport & Feria          127       4.2    2025-02-20\n",
       "8        ibis Madrid Aeropuerto Barajas          116       4.4    2025-02-20\n",
       "9        ibis Madrid Alcorcon Tresaguas           90       4.4    2025-02-20"
      ]
     },
     "execution_count": 10,
     "metadata": {},
     "output_type": "execute_result"
    }
   ],
   "source": [
    "df_dictio_hoteles"
   ]
  },
  {
   "cell_type": "code",
   "execution_count": 11,
   "metadata": {},
   "outputs": [],
   "source": [
    "df_dictio_hoteles.to_parquet(\"../data/scrapeo_hoteles.parquet\", index=False)"
   ]
  }
 ],
 "metadata": {
  "kernelspec": {
   "display_name": "Python 3",
   "language": "python",
   "name": "python3"
  },
  "language_info": {
   "codemirror_mode": {
    "name": "ipython",
    "version": 3
   },
   "file_extension": ".py",
   "mimetype": "text/x-python",
   "name": "python",
   "nbconvert_exporter": "python",
   "pygments_lexer": "ipython3",
   "version": "3.12.6"
  }
 },
 "nbformat": 4,
 "nbformat_minor": 2
}
